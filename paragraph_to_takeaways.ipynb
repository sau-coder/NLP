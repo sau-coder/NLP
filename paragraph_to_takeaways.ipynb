{
  "nbformat": 4,
  "nbformat_minor": 0,
  "metadata": {
    "colab": {
      "provenance": [],
      "authorship_tag": "ABX9TyOaOFk9WA5O4lq4E6QT0n89",
      "include_colab_link": true
    },
    "kernelspec": {
      "name": "python3",
      "display_name": "Python 3"
    },
    "language_info": {
      "name": "python"
    }
  },
  "cells": [
    {
      "cell_type": "markdown",
      "metadata": {
        "id": "view-in-github",
        "colab_type": "text"
      },
      "source": [
        "<a href=\"https://colab.research.google.com/github/sau-coder/NLP/blob/master/paragraph_to_takeaways.ipynb\" target=\"_parent\"><img src=\"https://colab.research.google.com/assets/colab-badge.svg\" alt=\"Open In Colab\"/></a>"
      ]
    },
    {
      "cell_type": "code",
      "execution_count": null,
      "metadata": {
        "id": "mIpd1oH4_WjL"
      },
      "outputs": [],
      "source": [
        "pip install datasets"
      ]
    },
    {
      "cell_type": "code",
      "source": [
        "from google.colab import drive\n",
        "drive.mount('/content/drive')"
      ],
      "metadata": {
        "colab": {
          "base_uri": "https://localhost:8080/"
        },
        "id": "iPXia1xzAo9w",
        "outputId": "d369b01a-41dd-4dbc-c987-518112fbae70"
      },
      "execution_count": null,
      "outputs": [
        {
          "output_type": "stream",
          "name": "stdout",
          "text": [
            "Mounted at /content/drive\n"
          ]
        }
      ]
    },
    {
      "cell_type": "code",
      "source": [
        "import json\n",
        "from pathlib import Path\n",
        "\n",
        "def read_squad(path):\n",
        "    path = Path(path)\n",
        "    with open(path, 'rb') as f:\n",
        "        squad_dict = json.load(f)\n",
        "    print(squad_dict)\n",
        "\n",
        "    source_text = []\n",
        "    target_text = []\n",
        "    for i in squad_dict:\n",
        "      source_text.append(i[\"source_text\"])\n",
        "    for target in squad_dict:\n",
        "      target_text.append(target['target_text'])\n",
        "\n",
        "    return source_text , target_text\n",
        "\n",
        "source_text , target_text = read_squad('/content/drive/MyDrive/data.json')"
      ],
      "metadata": {
        "id": "Z7m1EavzA05P"
      },
      "execution_count": null,
      "outputs": []
    },
    {
      "cell_type": "code",
      "source": [
        "import json\n",
        "with open('/content/drive/MyDrive/data.json', 'rb') as f:\n",
        "        squad_dict = json.load(f)\n",
        "\n",
        "source_text = []\n",
        "target_text = []\n",
        "for i in squad_dict:\n",
        "        print(i)"
      ],
      "metadata": {
        "id": "FJCpVAbYDnZg"
      },
      "execution_count": null,
      "outputs": []
    },
    {
      "cell_type": "code",
      "source": [
        "pip install transformers"
      ],
      "metadata": {
        "id": "Kzxzi9X-79Tf"
      },
      "execution_count": null,
      "outputs": []
    },
    {
      "cell_type": "code",
      "source": [
        "pip install sentencepiece"
      ],
      "metadata": {
        "id": "DRvw0s3q82Vv"
      },
      "execution_count": null,
      "outputs": []
    },
    {
      "cell_type": "code",
      "source": [
        "from transformers import AutoTokenizer , MT5ForConditionalGeneration\n",
        "\n",
        "tokenizer = AutoTokenizer.from_pretrained('bigscience/mt0-small')\n",
        "model = MT5Model.from_pretrained('bigscience/mt0-small')"
      ],
      "metadata": {
        "id": "r8shT0MfmF6r"
      },
      "execution_count": null,
      "outputs": []
    },
    {
      "cell_type": "code",
      "source": [
        "from sklearn.model_selection import train_test_split\n",
        "\n",
        "x_train , x_val , y_train , y_val = train_test_split(source_text , target_text , test_size = 0.2)\n",
        "\n",
        "x_train_tokenized = tokenizer(x_train , padding = True , truncation = True , max_length = 512 , return_tensors=\"pt\").input_ids\n",
        "x_val_tokenized = tokenizer(x_val , padding = True , truncation = True , max_length = 512 )\n",
        "y_train_tokenized = tokenizer(y_train , padding = True , truncation = True , max_length = 512 )\n",
        "y_val_tokenized = tokenizer(y_val , padding = True , truncation = True , max_length = 512 )\n",
        "\n"
      ],
      "metadata": {
        "id": "ES0RqUl2k1ep"
      },
      "execution_count": null,
      "outputs": []
    },
    {
      "cell_type": "code",
      "source": [
        "len(x_train),len(x_val)"
      ],
      "metadata": {
        "id": "MiKRROKNoP7B"
      },
      "execution_count": null,
      "outputs": []
    },
    {
      "cell_type": "code",
      "source": [
        "import torch\n",
        "\n",
        "class SMDataset(torch.utils.data.Dataset):\n",
        "    def __init__(self, inputs, targets):\n",
        "        self.inputs = inputs\n",
        "        self.targets = targets\n",
        "\n",
        "    def __getitem__(self, idx):\n",
        "        input_ids = torch.tensor(self.inputs[\"input_ids\"][idx]).squeeze()\n",
        "        target_ids = torch.tensor(self.targets[\"input_ids\"][idx]).squeeze()\n",
        "        return {\"input_ids\": input_ids, \"labels\": target_ids}\n",
        "\n",
        "    def __len__(self):\n",
        "        return len(self.inputs)"
      ],
      "metadata": {
        "id": "8kHJM88CpgKL"
      },
      "execution_count": null,
      "outputs": []
    },
    {
      "cell_type": "code",
      "source": [
        "train_dataset = SMDataset(x_train_tokenized , y_train_tokenized)\n",
        "val_dataset = SMDataset(x_val_tokenized , y_val_tokenized)\n",
        "\n",
        "outputs = model(input_ids=train_dataset[\"input_ids\"], decoder_input_ids=val_dataset[\"input_ids\"])"
      ],
      "metadata": {
        "id": "LZGtE1BZrCgl"
      },
      "execution_count": null,
      "outputs": []
    },
    {
      "cell_type": "code",
      "source": [
        "train_dataset[5]"
      ],
      "metadata": {
        "id": "JNoloQWWrw9z"
      },
      "execution_count": null,
      "outputs": []
    },
    {
      "cell_type": "code",
      "source": [
        "from transformers import TrainingArguments , Trainer"
      ],
      "metadata": {
        "id": "F_lawIljrxHK"
      },
      "execution_count": null,
      "outputs": []
    },
    {
      "cell_type": "code",
      "source": [
        "args = TrainingArguments(\n",
        "    output_dir=\"output\",\n",
        "    num_train_epochs = 1,\n",
        "    per_device_train_batch_size = 8,\n",
        "    \n",
        ")\n",
        "\n",
        "trainer = Trainer(\n",
        "    model=model,\n",
        "    args=args,\n",
        "    train_dataset = train_dataset,\n",
        "    eval_dataset = val_dataset,\n",
        ")\n",
        "\n",
        "trainer.train()"
      ],
      "metadata": {
        "id": "ye4p2yV6HsvK"
      },
      "execution_count": null,
      "outputs": []
    }
  ]
}
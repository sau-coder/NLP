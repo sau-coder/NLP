{
  "nbformat": 4,
  "nbformat_minor": 0,
  "metadata": {
    "colab": {
      "provenance": [],
      "mount_file_id": "1g78HpI9h8lZ9Gz43uPbJcEUW7RtD_l4T",
      "authorship_tag": "ABX9TyPdf2IT3IRrRaBWZtASy2NG",
      "include_colab_link": true
    },
    "kernelspec": {
      "name": "python3",
      "display_name": "Python 3"
    },
    "language_info": {
      "name": "python"
    }
  },
  "cells": [
    {
      "cell_type": "markdown",
      "metadata": {
        "id": "view-in-github",
        "colab_type": "text"
      },
      "source": [
        "<a href=\"https://colab.research.google.com/github/sau-coder/NLP/blob/master/Classification_with_multiple_inputs.ipynb\" target=\"_parent\"><img src=\"https://colab.research.google.com/assets/colab-badge.svg\" alt=\"Open In Colab\"/></a>"
      ]
    },
    {
      "cell_type": "code",
      "execution_count": null,
      "metadata": {
        "colab": {
          "base_uri": "https://localhost:8080/"
        },
        "id": "YzPADTIUXDdA",
        "outputId": "428b4626-0684-4a3a-9e7d-6b60cd1291fd"
      },
      "outputs": [
        {
          "output_type": "stream",
          "name": "stdout",
          "text": [
            "Mounted at /content/drive\n"
          ]
        }
      ],
      "source": [
        "from google.colab import drive\n",
        "drive.mount('/content/drive')"
      ]
    },
    {
      "cell_type": "code",
      "source": [
        "import pandas as pd\n",
        "\n",
        "df = pd.read_csv('/content/drive/MyDrive/tested.csv')"
      ],
      "metadata": {
        "id": "k7s2p3KjXju2"
      },
      "execution_count": null,
      "outputs": []
    },
    {
      "cell_type": "code",
      "source": [
        "pip install transformers"
      ],
      "metadata": {
        "id": "43lSQKOMX3jO"
      },
      "execution_count": null,
      "outputs": []
    },
    {
      "cell_type": "code",
      "source": [
        "inputs = []\n",
        "\n",
        "for input_1 , input_2 , input_3 , input_4 , input_5 , input_6 , input_7 , input_8 , input_9 , input_10 , input_11 in zip(df[\"PassengerId\"] , df[\"Pclass\"] , df[\"Name\"] , df[\"Sex\"] , df[\"Age\"] , df[\"SibSp\"] , df[\"Parch\"] , df[\"Ticket\"] , df[\"Fare\"] , df[\"Cabin\"] , df[\"Embarked\"]):\n",
        "    inp = str(input_1)+\" \"+str(input_2)+\" \"+input_3+\" \"+input_4+\" \"+str(input_5)+\" \"+str(input_6)+\" \"+str(input_7)+\" \"+str(input_8)+\" \"+str(input_9)+\" \"+str(input_10)+\" \"+str(input_11),\n",
        "    inputs.append(inp)"
      ],
      "metadata": {
        "id": "WIVI1GguX58k"
      },
      "execution_count": null,
      "outputs": []
    },
    {
      "cell_type": "code",
      "source": [
        "pip install num2words"
      ],
      "metadata": {
        "id": "ftjrFoGAX9ft"
      },
      "execution_count": null,
      "outputs": []
    },
    {
      "cell_type": "code",
      "source": [
        "from num2words import num2words\n",
        "def num_to_words(text):\n",
        "\t\"\"\"\n",
        "\tReturn :- text which have all numbers or integers in the form of words\n",
        "\tInput :- string\n",
        "\tOutput :- string\n",
        "\t\"\"\"\n",
        "\t# splitting text into words with space\n",
        "\ttext = \"892 3 Kelly, Mr. James male 34.5 0 0 330911 7.8292 nan Q\"\n",
        "\tafter_spliting = text.split()\n",
        "\n",
        "\tfor index in range(len(after_spliting)):\n",
        "\t\tif after_spliting[index].isdigit():\n",
        "\t\t\tafter_spliting[index] = num2words(after_spliting[index])\n",
        "\n",
        "\t# joining list into string with space\n",
        "\tnumbers_to_words = ' '.join(after_spliting)\n",
        "\treturn(numbers_to_words)"
      ],
      "metadata": {
        "id": "Yt4kAiVqYGBV"
      },
      "execution_count": null,
      "outputs": []
    },
    {
      "cell_type": "code",
      "source": [
        "ls = []\n",
        "for i in inputs:\n",
        "    x=num_to_words(i)\n",
        "    ls.append(x)"
      ],
      "metadata": {
        "id": "SJpxJcVfYJ2d"
      },
      "execution_count": null,
      "outputs": []
    },
    {
      "cell_type": "code",
      "source": [
        "x = ls\n",
        "y = list(df[\"Survived\"])"
      ],
      "metadata": {
        "id": "ERXCwF-3YPLA"
      },
      "execution_count": null,
      "outputs": []
    },
    {
      "cell_type": "code",
      "source": [
        "from sklearn.model_selection import train_test_split\n",
        "x_train , x_test , y_train , y_test = train_test_split(x , y , random_state = 0)"
      ],
      "metadata": {
        "id": "FTdEn4U2YPNe"
      },
      "execution_count": null,
      "outputs": []
    },
    {
      "cell_type": "code",
      "source": [
        "from transformers import DistilBertTokenizerFast , DistilBertForSequenceClassification\n",
        "tokenizer = DistilBertTokenizerFast.from_pretrained('distilbert-base-uncased')\n",
        "model = DistilBertForSequenceClassification.from_pretrained('distilbert-base-uncased')"
      ],
      "metadata": {
        "id": "ETZsnXgEYXqW"
      },
      "execution_count": null,
      "outputs": []
    },
    {
      "cell_type": "code",
      "source": [
        "train_encodings = tokenizer(x_train , truncation = True , padding = True)\n",
        "test_encodings = tokenizer(x_test , truncation = True , padding = True) "
      ],
      "metadata": {
        "id": "2onSZDKuYXuH"
      },
      "execution_count": null,
      "outputs": []
    },
    {
      "cell_type": "code",
      "source": [
        "pip install tensorflow"
      ],
      "metadata": {
        "id": "t6arZpnXYhjd"
      },
      "execution_count": null,
      "outputs": []
    },
    {
      "cell_type": "code",
      "source": [
        "import tensorflow as tf\n",
        "\n",
        "train_dataset = tf.data.Dataset.from_tensor_slices((dict(train_encodings) , y_train))\n",
        "test_dataset = tf.data.Dataset.from_tensor_slices((dict(test_encodings) , y_test))"
      ],
      "metadata": {
        "id": "6WOHIGg-YjV9"
      },
      "execution_count": null,
      "outputs": []
    },
    {
      "cell_type": "code",
      "source": [
        "from transformers import TFDistilBertForSequenceClassification , TFTrainer , TFTrainingArguments\n",
        "\n",
        "training_args = TFTrainingArguments(\n",
        "    output_dir = './results',\n",
        "    num_train_epochs = 2,\n",
        "    per_device_train_batch_size = 8,\n",
        "    per_device_eval_batch_size = 16,\n",
        "    eval_steps = 10,\n",
        "    warmup_steps  = 500,\n",
        "    weight_decay = 0.01,\n",
        "    logging_dir = './logs',\n",
        "    logging_steps = 10,\n",
        ")"
      ],
      "metadata": {
        "id": "5RZg_SEGYm3N"
      },
      "execution_count": null,
      "outputs": []
    },
    {
      "cell_type": "code",
      "source": [
        "with training_args.strategy.scope():\n",
        "  model = TFDistilBertForSequenceClassification.from_pretrained(\"distilbert-base-uncased\")\n",
        "\n",
        "  trainer = TFTrainer(\n",
        "      model = model,\n",
        "      args = training_args,\n",
        "      train_dataset = train_dataset,\n",
        "      eval_dataset = test_dataset\n",
        "  )\n",
        "\n",
        "trainer.train()"
      ],
      "metadata": {
        "id": "d-pu91gXYpMU"
      },
      "execution_count": null,
      "outputs": []
    }
  ]
}